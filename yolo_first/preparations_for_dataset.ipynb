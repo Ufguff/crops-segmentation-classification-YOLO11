{
 "cells": [
  {
   "cell_type": "code",
   "execution_count": 4,
   "id": "d7724cd6",
   "metadata": {},
   "outputs": [],
   "source": [
    "import os\n",
    "import cv2"
   ]
  },
  {
   "cell_type": "code",
   "execution_count": null,
   "id": "0baa2aa1",
   "metadata": {},
   "outputs": [
    {
     "data": {
      "text/plain": [
       "['double_plant',\n",
       " 'water',\n",
       " 'storm_damage',\n",
       " 'planter_skip',\n",
       " 'weed_cluster',\n",
       " 'waterway',\n",
       " 'endrow',\n",
       " 'drydown',\n",
       " 'nutrient_deficiency']"
      ]
     },
     "execution_count": 5,
     "metadata": {},
     "output_type": "execute_result"
    }
   ],
   "source": [
    "input_dir = '../Agriculture-Vision-2021/train/labels'\n",
    "labels = []\n",
    "for j in os.listdir(input_dir):\n",
    "    labels.append(j)\n",
    "labels"
   ]
  },
  {
   "cell_type": "code",
   "execution_count": null,
   "id": "821dc42f",
   "metadata": {},
   "outputs": [],
   "source": [
    "p  = ['../datasets/agriculture_vision/test/images',\n",
    "'../datasets/agriculture_vision/train/images',\n",
    "'../datasets/agriculture_vision/train/labels',\n",
    "'../datasets/agriculture_vision/val/images',\n",
    "'../datasets/agriculture_vision/val/labels']\n",
    "for i in p:\n",
    "    if not os.path.exists(i):\n",
    "        os.makedirs(i)"
   ]
  },
  {
   "cell_type": "markdown",
   "id": "d16fc127",
   "metadata": {},
   "source": [
    "## Создание dataset.yaml"
   ]
  },
  {
   "cell_type": "code",
   "execution_count": null,
   "id": "0da1c5f6",
   "metadata": {},
   "outputs": [],
   "source": [
    "with open('datasets/agriculture_vision/dataset.yaml', 'w') as f:\n",
    "  f.write('path: agriculture_vision\\n')\n",
    "  f.write('names:\\n')\n",
    "  for j in os.listdir(input_dir):\n",
    "    f.write(f'- {j}\\n')\n",
    "\n",
    "  f.write('train: train\\n')\n",
    "  f.write('val: val\\n')\n",
    "  f.write('test: test\\n')\n",
    "\n",
    "  "
   ]
  },
  {
   "cell_type": "markdown",
   "id": "63d3c016",
   "metadata": {},
   "source": []
  },
  {
   "cell_type": "markdown",
   "id": "77751bb7",
   "metadata": {},
   "source": [
    "## Перевод масок в контуры для labels"
   ]
  },
  {
   "cell_type": "code",
   "execution_count": 6,
   "id": "6cf2ef5b",
   "metadata": {},
   "outputs": [],
   "source": [
    "    \n",
    "def maskToPolygon(input_dir, output_dir):\n",
    "    for count, j in enumerate(os.listdir(f'{input_dir}/{labels[0]}')):\n",
    "        filename = j.split('.')[0]\n",
    "\n",
    "        for i, label in enumerate(labels):\n",
    "            dir_label = os.path.join(input_dir, label)\n",
    "            image_path = os.path.join(dir_label, j)\n",
    "\n",
    "            mask = cv2.imread(image_path, cv2.IMREAD_GRAYSCALE)\n",
    "            _, mask = cv2.threshold(mask, 1, 255, cv2.THRESH_BINARY)\n",
    "\n",
    "            H, W = mask.shape\n",
    "            contours, hierarchy = cv2.findContours(mask, cv2.RETR_EXTERNAL, cv2.CHAIN_APPROX_SIMPLE)\n",
    "            \n",
    "            polygons = []\n",
    "            for cnt in contours:\n",
    "                if cv2.contourArea(cnt) > 200:\n",
    "                    polygon = []\n",
    "                    for point in cnt:\n",
    "                        x, y = point[0]\n",
    "                        polygon.append(x / W)\n",
    "                        polygon.append(y / H)\n",
    "                    polygons.append(polygon)\n",
    "\n",
    "\n",
    "        \n",
    "            # print the polygons\n",
    "            with open('{}.txt'.format(os.path.join(output_dir, filename)), 'a') as f:\n",
    "                for polygon in polygons:\n",
    "                    for p_, p in enumerate(polygon):\n",
    "                        if p_ == len(polygon) - 1:\n",
    "                            f.write('{}\\n'.format(p))\n",
    "                        elif p_ == 0:\n",
    "                            f.write(str(i) + ' {} '.format(p)) # указание класса \n",
    "                        else:\n",
    "                            f.write('{} '.format(p))\n",
    "\n",
    "                f.close()"
   ]
  },
  {
   "cell_type": "code",
   "execution_count": null,
   "id": "8242435b",
   "metadata": {},
   "outputs": [],
   "source": [
    "# labels for train\n",
    "maskToPolygon(input_dir='../Agriculture-Vision-2021/train/labels', output_dir='../datasets/agriculture_vision/labels/train')"
   ]
  },
  {
   "cell_type": "code",
   "execution_count": null,
   "id": "92761d49",
   "metadata": {},
   "outputs": [],
   "source": [
    "# labels for validation\n",
    "maskToPolygon(input_dir='../Agriculture-Vision-2021/val/labels', output_dir='../datasets/agriculture_vision/labels/val')"
   ]
  },
  {
   "cell_type": "code",
   "execution_count": null,
   "id": "afae9ec6",
   "metadata": {},
   "outputs": [],
   "source": []
  }
 ],
 "metadata": {
  "kernelspec": {
   "display_name": "my_env",
   "language": "python",
   "name": "python3"
  },
  "language_info": {
   "codemirror_mode": {
    "name": "ipython",
    "version": 3
   },
   "file_extension": ".py",
   "mimetype": "text/x-python",
   "name": "python",
   "nbconvert_exporter": "python",
   "pygments_lexer": "ipython3",
   "version": "3.12.9"
  }
 },
 "nbformat": 4,
 "nbformat_minor": 5
}
