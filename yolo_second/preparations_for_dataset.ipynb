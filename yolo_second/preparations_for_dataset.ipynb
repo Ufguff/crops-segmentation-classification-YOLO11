{
 "cells": [
  {
   "cell_type": "code",
   "execution_count": 43,
   "id": "e9c11580",
   "metadata": {},
   "outputs": [],
   "source": [
    "import os\n",
    "import pandas as pd\n",
    "from PIL import Image\n",
    "from sklearn.model_selection import train_test_split"
   ]
  },
  {
   "cell_type": "markdown",
   "id": "fa76c0b3",
   "metadata": {},
   "source": [
    "## consts"
   ]
  },
  {
   "cell_type": "code",
   "execution_count": 27,
   "id": "be5b5708",
   "metadata": {},
   "outputs": [],
   "source": [
    "path = '../Maize or Corn/data'\n",
    "TARGET_SIZE = (224, 224)"
   ]
  },
  {
   "cell_type": "markdown",
   "id": "44bac334",
   "metadata": {},
   "source": [
    "## working"
   ]
  },
  {
   "cell_type": "code",
   "execution_count": 14,
   "id": "d553eba0",
   "metadata": {},
   "outputs": [
    {
     "name": "stdout",
     "output_type": "stream",
     "text": [
      "['Gray_Leaf_Spot', 'Common_Rust', 'Blight', 'Healthy']\n"
     ]
    },
    {
     "data": {
      "text/html": [
       "<div>\n",
       "<style scoped>\n",
       "    .dataframe tbody tr th:only-of-type {\n",
       "        vertical-align: middle;\n",
       "    }\n",
       "\n",
       "    .dataframe tbody tr th {\n",
       "        vertical-align: top;\n",
       "    }\n",
       "\n",
       "    .dataframe thead th {\n",
       "        text-align: right;\n",
       "    }\n",
       "</style>\n",
       "<table border=\"1\" class=\"dataframe\">\n",
       "  <thead>\n",
       "    <tr style=\"text-align: right;\">\n",
       "      <th></th>\n",
       "      <th>image</th>\n",
       "      <th>label</th>\n",
       "    </tr>\n",
       "  </thead>\n",
       "  <tbody>\n",
       "    <tr>\n",
       "      <th>0</th>\n",
       "      <td>Corn_Gray_Spot (211).JPG</td>\n",
       "      <td>Gray_Leaf_Spot</td>\n",
       "    </tr>\n",
       "    <tr>\n",
       "      <th>1</th>\n",
       "      <td>Corn_Gray_Spot (222).JPG</td>\n",
       "      <td>Gray_Leaf_Spot</td>\n",
       "    </tr>\n",
       "    <tr>\n",
       "      <th>2</th>\n",
       "      <td>Corn_Gray_Spot (528).JPG</td>\n",
       "      <td>Gray_Leaf_Spot</td>\n",
       "    </tr>\n",
       "    <tr>\n",
       "      <th>3</th>\n",
       "      <td>Corn_Gray_Spot (99).JPG</td>\n",
       "      <td>Gray_Leaf_Spot</td>\n",
       "    </tr>\n",
       "    <tr>\n",
       "      <th>4</th>\n",
       "      <td>Corn_Gray_Spot (80).JPG</td>\n",
       "      <td>Gray_Leaf_Spot</td>\n",
       "    </tr>\n",
       "    <tr>\n",
       "      <th>...</th>\n",
       "      <td>...</td>\n",
       "      <td>...</td>\n",
       "    </tr>\n",
       "    <tr>\n",
       "      <th>4183</th>\n",
       "      <td>Corn_Health (668).jpg</td>\n",
       "      <td>Healthy</td>\n",
       "    </tr>\n",
       "    <tr>\n",
       "      <th>4184</th>\n",
       "      <td>Corn_Health (294).jpg</td>\n",
       "      <td>Healthy</td>\n",
       "    </tr>\n",
       "    <tr>\n",
       "      <th>4185</th>\n",
       "      <td>Corn_Health (700).jpg</td>\n",
       "      <td>Healthy</td>\n",
       "    </tr>\n",
       "    <tr>\n",
       "      <th>4186</th>\n",
       "      <td>Corn_Health (269).jpg</td>\n",
       "      <td>Healthy</td>\n",
       "    </tr>\n",
       "    <tr>\n",
       "      <th>4187</th>\n",
       "      <td>Corn_Health (296).jpg</td>\n",
       "      <td>Healthy</td>\n",
       "    </tr>\n",
       "  </tbody>\n",
       "</table>\n",
       "<p>4188 rows × 2 columns</p>\n",
       "</div>"
      ],
      "text/plain": [
       "                         image           label\n",
       "0     Corn_Gray_Spot (211).JPG  Gray_Leaf_Spot\n",
       "1     Corn_Gray_Spot (222).JPG  Gray_Leaf_Spot\n",
       "2     Corn_Gray_Spot (528).JPG  Gray_Leaf_Spot\n",
       "3      Corn_Gray_Spot (99).JPG  Gray_Leaf_Spot\n",
       "4      Corn_Gray_Spot (80).JPG  Gray_Leaf_Spot\n",
       "...                        ...             ...\n",
       "4183     Corn_Health (668).jpg         Healthy\n",
       "4184     Corn_Health (294).jpg         Healthy\n",
       "4185     Corn_Health (700).jpg         Healthy\n",
       "4186     Corn_Health (269).jpg         Healthy\n",
       "4187     Corn_Health (296).jpg         Healthy\n",
       "\n",
       "[4188 rows x 2 columns]"
      ]
     },
     "execution_count": 14,
     "metadata": {},
     "output_type": "execute_result"
    }
   ],
   "source": [
    "labels = []\n",
    "for p in os.listdir(path):\n",
    "    labels.append(p)\n",
    "print(labels)\n",
    "df_labels = []\n",
    "df_images = []\n",
    "\n",
    "for lab in labels:\n",
    "    dir_path = os.path.join(path, lab)\n",
    "\n",
    "    for file in os.listdir(dir_path):\n",
    "        df_images.append(file)\n",
    "        df_labels.append(lab)\n",
    "\n",
    "data = pd.DataFrame({'image': df_images, 'label': df_labels})\n",
    "data"
   ]
  },
  {
   "cell_type": "code",
   "execution_count": 23,
   "id": "88250273",
   "metadata": {},
   "outputs": [
    {
     "data": {
      "text/plain": [
       "(                           image           label\n",
       " 2286       Corn_Blight (941).JPG          Blight\n",
       " 1804   Corn_Common_Rust (60).jpg     Common_Rust\n",
       " 3185       Corn_Health (470).jpg         Healthy\n",
       " 2367      Corn_Blight (1026).JPG          Blight\n",
       " 781   Corn_Common_Rust (653).JPG     Common_Rust\n",
       " ...                          ...             ...\n",
       " 2559       Corn_Blight (104).jpg          Blight\n",
       " 1934       Corn_Blight (194).JPG          Blight\n",
       " 1042  Corn_Common_Rust (235).JPG     Common_Rust\n",
       " 1411   Corn_Common_Rust (70).jpg     Common_Rust\n",
       " 220     Corn_Gray_Spot (348).jpg  Gray_Leaf_Spot\n",
       " \n",
       " [3350 rows x 2 columns],\n",
       "                            image           label\n",
       " 1518  Corn_Common_Rust (190).JPG     Common_Rust\n",
       " 3980       Corn_Health (401).jpg         Healthy\n",
       " 4151       Corn_Health (423).jpg         Healthy\n",
       " 9        Corn_Gray_Spot (55).jpg  Gray_Leaf_Spot\n",
       " 4104       Corn_Health (585).jpg         Healthy\n",
       " ...                          ...             ...\n",
       " 3954       Corn_Health (761).jpg         Healthy\n",
       " 3325       Corn_Health (986).jpg         Healthy\n",
       " 2906       Corn_Blight (481).JPG          Blight\n",
       " 2802       Corn_Blight (119).JPG          Blight\n",
       " 2232       Corn_Blight (964).JPG          Blight\n",
       " \n",
       " [419 rows x 2 columns],\n",
       "                             image           label\n",
       " 1498   Corn_Common_Rust (857).JPG     Common_Rust\n",
       " 2414        Corn_Blight (533).JPG          Blight\n",
       " 1619  Corn_Common_Rust (1219).JPG     Common_Rust\n",
       " 1211   Corn_Common_Rust (191).JPG     Common_Rust\n",
       " 1156   Corn_Common_Rust (856).JPG     Common_Rust\n",
       " ...                           ...             ...\n",
       " 191      Corn_Gray_Spot (481).JPG  Gray_Leaf_Spot\n",
       " 3988        Corn_Health (347).jpg         Healthy\n",
       " 2095        Corn_Blight (199).JPG          Blight\n",
       " 3924       Corn_Health (1068).jpg         Healthy\n",
       " 3254        Corn_Health (697).jpg         Healthy\n",
       " \n",
       " [419 rows x 2 columns])"
      ]
     },
     "execution_count": 23,
     "metadata": {},
     "output_type": "execute_result"
    }
   ],
   "source": [
    "strat = data['label']\n",
    "df_train, df_dummy = train_test_split(data, shuffle=True, train_size=0.8, stratify=strat)\n",
    "\n",
    "strat = df_dummy['label']\n",
    "df_valid, df_test = train_test_split(df_dummy, train_size=0.5, shuffle=True, stratify=strat)\n",
    "df_train, df_valid, df_test"
   ]
  },
  {
   "cell_type": "code",
   "execution_count": 41,
   "id": "4be17bcb",
   "metadata": {},
   "outputs": [],
   "source": [
    "def df_to_folder(df: pd.DataFrame, dest_path: str):\n",
    "    for _, row in df.iterrows():\n",
    "        image_name, label = row['image'], row['label']\n",
    "        image_path = os.path.join(path, label, image_name)\n",
    "        img = Image.open(image_path)\n",
    "\n",
    "        img = img.resize(TARGET_SIZE)\n",
    "        #img.show()\n",
    "\n",
    "        if img.mode == 'RGBA':\n",
    "            img = img.convert('RGB')\n",
    "\n",
    "        label_path = os.path.join(dest_path, label)\n",
    "        if not os.path.exists(label_path):\n",
    "            os.mkdir(label_path)\n",
    "\n",
    "        result_path = os.path.join(label_path, image_name)\n",
    "        img.save(result_path)\n",
    "        "
   ]
  },
  {
   "cell_type": "code",
   "execution_count": 42,
   "id": "647c303f",
   "metadata": {},
   "outputs": [],
   "source": [
    "dataset_path = '../datasets/corn_or_leaf'\n",
    "dest_train_path = '../datasets/corn_or_leaf/train/'\n",
    "dest_val_path = '../datasets/corn_or_leaf/val/'\n",
    "dest_test_path = '../datasets/corn_or_leaf/test/'\n",
    "\n",
    "if not os.path.exists(dataset_path):\n",
    "    os.mkdir(dataset_path)\n",
    "if not os.path.exists(dest_train_path):     \n",
    "    os.mkdir(dest_train_path)\n",
    "if not os.path.exists(dest_val_path):\n",
    "    os.mkdir(dest_val_path)\n",
    "if not os.path.exists(dest_test_path):\n",
    "    os.mkdir(dest_test_path)\n",
    "\n",
    "df_to_folder(df_train, dest_path=dest_train_path)\n",
    "df_to_folder(df_valid, dest_path=dest_val_path)\n",
    "df_to_folder(df_test, dest_path=dest_test_path)\n"
   ]
  },
  {
   "cell_type": "markdown",
   "id": "ca12c1da",
   "metadata": {},
   "source": [
    "## data.yaml"
   ]
  },
  {
   "cell_type": "code",
   "execution_count": 44,
   "id": "d112f710",
   "metadata": {},
   "outputs": [],
   "source": [
    "with open('../datasets/corn_or_leaf/dataset.yaml', 'w') as f:\n",
    "  f.write('path: corn_or_leaf\\n')\n",
    "  f.write('names:\\n')\n",
    "  for j in labels:\n",
    "    f.write(f'- {j}\\n')\n",
    "\n",
    "  f.write('train: train\\n')\n",
    "  f.write('val: val\\n')\n",
    "  f.write('test: test\\n')\n",
    "\n",
    "  "
   ]
  },
  {
   "cell_type": "code",
   "execution_count": null,
   "id": "b7b58117",
   "metadata": {},
   "outputs": [],
   "source": []
  }
 ],
 "metadata": {
  "kernelspec": {
   "display_name": "my_env",
   "language": "python",
   "name": "python3"
  },
  "language_info": {
   "codemirror_mode": {
    "name": "ipython",
    "version": 3
   },
   "file_extension": ".py",
   "mimetype": "text/x-python",
   "name": "python",
   "nbconvert_exporter": "python",
   "pygments_lexer": "ipython3",
   "version": "3.12.9"
  }
 },
 "nbformat": 4,
 "nbformat_minor": 5
}
